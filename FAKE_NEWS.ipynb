{
 "cells": [
  {
   "cell_type": "code",
   "execution_count": 1,
   "id": "3b8933c1-84df-4065-927a-3c91b2e55130",
   "metadata": {},
   "outputs": [
    {
     "name": "stdout",
     "output_type": "stream",
     "text": [
      "Requirement already satisfied: pandas in e:\\intro to ml\\anaconda\\lib\\site-packages (2.2.2)\n",
      "Requirement already satisfied: scikit-learn in e:\\intro to ml\\anaconda\\lib\\site-packages (1.5.2)\n",
      "Requirement already satisfied: matplotlib in e:\\intro to ml\\anaconda\\lib\\site-packages (3.8.4)\n",
      "Requirement already satisfied: seaborn in e:\\intro to ml\\anaconda\\lib\\site-packages (0.13.2)\n",
      "Requirement already satisfied: nltk in e:\\intro to ml\\anaconda\\lib\\site-packages (3.8.1)\n",
      "Requirement already satisfied: numpy>=1.26.0 in e:\\intro to ml\\anaconda\\lib\\site-packages (from pandas) (1.26.4)\n",
      "Requirement already satisfied: python-dateutil>=2.8.2 in e:\\intro to ml\\anaconda\\lib\\site-packages (from pandas) (2.9.0.post0)\n",
      "Requirement already satisfied: pytz>=2020.1 in e:\\intro to ml\\anaconda\\lib\\site-packages (from pandas) (2024.1)\n",
      "Requirement already satisfied: tzdata>=2022.7 in e:\\intro to ml\\anaconda\\lib\\site-packages (from pandas) (2023.3)\n",
      "Requirement already satisfied: scipy>=1.6.0 in e:\\intro to ml\\anaconda\\lib\\site-packages (from scikit-learn) (1.13.1)\n",
      "Requirement already satisfied: joblib>=1.2.0 in e:\\intro to ml\\anaconda\\lib\\site-packages (from scikit-learn) (1.4.2)\n",
      "Requirement already satisfied: threadpoolctl>=3.1.0 in e:\\intro to ml\\anaconda\\lib\\site-packages (from scikit-learn) (3.5.0)\n",
      "Requirement already satisfied: contourpy>=1.0.1 in e:\\intro to ml\\anaconda\\lib\\site-packages (from matplotlib) (1.2.0)\n",
      "Requirement already satisfied: cycler>=0.10 in e:\\intro to ml\\anaconda\\lib\\site-packages (from matplotlib) (0.11.0)\n",
      "Requirement already satisfied: fonttools>=4.22.0 in e:\\intro to ml\\anaconda\\lib\\site-packages (from matplotlib) (4.51.0)\n",
      "Requirement already satisfied: kiwisolver>=1.3.1 in e:\\intro to ml\\anaconda\\lib\\site-packages (from matplotlib) (1.4.4)\n",
      "Requirement already satisfied: packaging>=20.0 in e:\\intro to ml\\anaconda\\lib\\site-packages (from matplotlib) (23.2)\n",
      "Requirement already satisfied: pillow>=8 in e:\\intro to ml\\anaconda\\lib\\site-packages (from matplotlib) (10.3.0)\n",
      "Requirement already satisfied: pyparsing>=2.3.1 in e:\\intro to ml\\anaconda\\lib\\site-packages (from matplotlib) (3.0.9)\n",
      "Requirement already satisfied: click in e:\\intro to ml\\anaconda\\lib\\site-packages (from nltk) (8.1.7)\n",
      "Requirement already satisfied: regex>=2021.8.3 in e:\\intro to ml\\anaconda\\lib\\site-packages (from nltk) (2023.10.3)\n",
      "Requirement already satisfied: tqdm in e:\\intro to ml\\anaconda\\lib\\site-packages (from nltk) (4.66.4)\n",
      "Requirement already satisfied: six>=1.5 in e:\\intro to ml\\anaconda\\lib\\site-packages (from python-dateutil>=2.8.2->pandas) (1.16.0)\n",
      "Requirement already satisfied: colorama in e:\\intro to ml\\anaconda\\lib\\site-packages (from click->nltk) (0.4.6)\n",
      "Note: you may need to restart the kernel to use updated packages.\n"
     ]
    }
   ],
   "source": [
    "pip install pandas scikit-learn matplotlib seaborn nltk\n"
   ]
  },
  {
   "cell_type": "code",
   "execution_count": null,
   "id": "ce0b42de-f8b9-4af6-bd15-da43b860a942",
   "metadata": {},
   "outputs": [],
   "source": []
  },
  {
   "cell_type": "code",
   "execution_count": 2,
   "id": "6c491854-6082-4893-b892-1ca48741ec92",
   "metadata": {},
   "outputs": [
    {
     "name": "stdout",
     "output_type": "stream",
     "text": [
      "\n",
      "--- Classification Report ---\n",
      "              precision    recall  f1-score   support\n",
      "\n",
      "           0       0.98      0.98      0.98      4311\n",
      "           1       0.99      0.98      0.98      4669\n",
      "\n",
      "    accuracy                           0.98      8980\n",
      "   macro avg       0.98      0.98      0.98      8980\n",
      "weighted avg       0.98      0.98      0.98      8980\n",
      "\n",
      "\n",
      "Accuracy: 0.9829\n"
     ]
    },
    {
     "data": {
      "image/png": "[encoded data removed]",
      "text/plain": [
       "<Figure size 500x400 with 2 Axes>"
      ]
     },
     "metadata": {},
     "output_type": "display_data"
    },
    {
     "name": "stdout",
     "output_type": "stream",
     "text": [
      "\n",
      "Prediction: REAL\n",
      "Bayesian Explanation (Posterior Probabilities):\n",
      "P(Real | Article) = 0.9357\n",
      "P(Fake | Article) = 0.0643\n"
     ]
    }
   ],
   "source": [
    "# --- 1. Import Required Libraries ---\n",
    "import pandas as pd\n",
    "import numpy as np\n",
    "import re\n",
    "import string\n",
    "import matplotlib.pyplot as plt\n",
    "import seaborn as sns\n",
    "\n",
    "from sklearn.model_selection import train_test_split\n",
    "from sklearn.feature_extraction.text import TfidfVectorizer\n",
    "from sklearn.linear_model import LogisticRegression\n",
    "from sklearn.metrics import classification_report, confusion_matrix, accuracy_score\n",
    "from sklearn.calibration import CalibratedClassifierCV\n",
    "\n",
    "# --- 2. Load and Label Data ---\n",
    "true_df = pd.read_csv('true.csv')\n",
    "fake_df = pd.read_csv('fake.csv')\n",
    "\n",
    "true_df['label'] = 0  # Real\n",
    "fake_df['label'] = 1  # Fake\n",
    "\n",
    "df = pd.concat([true_df, fake_df], ignore_index=True)\n",
    "df = df.sample(frac=1, random_state=42).reset_index(drop=True)\n",
    "\n",
    "# --- 3. Text Cleaning Function ---\n",
    "def clean_text(text):\n",
    "    text = text.lower()\n",
    "    text = re.sub(r'\\d+', '', text)\n",
    "    text = text.translate(str.maketrans('', '', string.punctuation))\n",
    "    text = re.sub(r'\\s+', ' ', text).strip()\n",
    "    return text\n",
    "\n",
    "df['text'] = df['text'].apply(clean_text)\n",
    "\n",
    "# --- 4. Feature Extraction (TF-IDF) ---\n",
    "vectorizer = TfidfVectorizer(stop_words='english', max_df=0.7)\n",
    "X = vectorizer.fit_transform(df['text'])\n",
    "y = df['label']\n",
    "\n",
    "# --- 5. Train-Test Split ---\n",
    "X_train, X_test, y_train, y_test = train_test_split(X, y, test_size=0.2, random_state=42)\n",
    "\n",
    "# --- 6. Train Logistic Regression with Probability Calibration ---\n",
    "lr_model = LogisticRegression(max_iter=1000)\n",
    "calibrated_model = CalibratedClassifierCV(lr_model, cv=5)\n",
    "calibrated_model.fit(X_train, y_train)\n",
    "\n",
    "# --- 7. Evaluation ---\n",
    "y_pred = calibrated_model.predict(X_test)\n",
    "y_proba = calibrated_model.predict_proba(X_test)\n",
    "\n",
    "print(\"\\n--- Classification Report ---\")\n",
    "print(classification_report(y_test, y_pred))\n",
    "print(\"\\nAccuracy: {:.4f}\".format(accuracy_score(y_test, y_pred)))\n",
    "\n",
    "# Confusion Matrix\n",
    "plt.figure(figsize=(5, 4))\n",
    "sns.heatmap(confusion_matrix(y_test, y_pred), annot=True, fmt='d', cmap='Blues',\n",
    "            xticklabels=['Real', 'Fake'], yticklabels=['Real', 'Fake'])\n",
    "plt.xlabel('Predicted')\n",
    "plt.ylabel('Actual')\n",
    "plt.title('Confusion Matrix')\n",
    "plt.show()\n",
    "\n",
    "# --- 8. Predict and Explain with Bayes Theorem ---\n",
    "def explain_with_bayes(text):\n",
    "    cleaned = clean_text(text)\n",
    "    vec = vectorizer.transform([cleaned])\n",
    "    pred = calibrated_model.predict(vec)[0]\n",
    "    proba = calibrated_model.predict_proba(vec)[0]\n",
    "\n",
    "    label = \"FAKE\" if pred == 1 else \"REAL\"\n",
    "    print(f\"\\nPrediction: {label}\")\n",
    "    print(\"Bayesian Explanation (Posterior Probabilities):\")\n",
    "    print(f\"P(Real | Article) = {proba[0]:.4f}\")\n",
    "    print(f\"P(Fake | Article) = {proba[1]:.4f}\")\n",
    "\n",
    "# --- 9. Example ---\n",
    "sample_news = \"The government has announced new healthcare policies starting next year.\"\n",
    "explain_with_bayes(sample_news)\n"
   ]
  },
  {
   "cell_type": "code",
   "execution_count": null,
   "id": "70267016-3829-4579-b83b-cb559368625b",
   "metadata": {},
   "outputs": [],
   "source": []
  },
  {
   "cell_type": "code",
   "execution_count": 16,
   "id": "60fa5d00-615e-4712-8b7c-c644fe4ab20e",
   "metadata": {},
   "outputs": [
    {
     "data": {
      "text/plain": [
       "['calibrated_lr_model.joblib']"
      ]
     },
     "execution_count": 16,
     "metadata": {},
     "output_type": "execute_result"
    }
   ],
   "source": [
    "import joblib\n",
    "\n",
    "# Save the TF-IDF vectorizer\n",
    "joblib.dump(vectorizer, 'tfidf_vectorizer.joblib')\n",
    "\n",
    "\n",
    "# Save the trained calibrated logistic regression model\n",
    "joblib.dump(calibrated_model, 'calibrated_lr_model.joblib')\n"
   ]
  },
  {
   "cell_type": "code",
   "execution_count": 10,
   "id": "348b3c76-8bcc-48e2-8ad7-bfd552e6792a",
   "metadata": {},
   "outputs": [
    {
     "name": "stdout",
     "output_type": "stream",
     "text": [
      "C:\\Users\\NAC\n"
     ]
    }
   ],
   "source": [
    "import os\n",
    "print(os.getcwd())\n"
   ]
  },
  {
   "cell_type": "code",
   "execution_count": 18,
   "id": "3b034461-d442-4861-89fb-d72f9faed120",
   "metadata": {},
   "outputs": [
    {
     "data": {
      "text/plain": [
       "['tfidf_vectorizer.joblib']"
      ]
     },
     "execution_count": 18,
     "metadata": {},
     "output_type": "execute_result"
    }
   ],
   "source": [
    "joblib.dump(vectorizer, 'tfidf_vectorizer.joblib')\n"
   ]
  },
  {
   "cell_type": "code",
   "execution_count": null,
   "id": "113a397e-6821-4fa8-86bf-77cc65d768cd",
   "metadata": {},
   "outputs": [],
   "source": []
  }
 ],
 "metadata": {
  "kernelspec": {
   "display_name": "Python 3 (ipykernel)",
   "language": "python",
   "name": "python3"
  },
  "language_info": {
   "codemirror_mode": {
    "name": "ipython",
    "version": 3
   },
   "file_extension": ".py",
   "mimetype": "text/x-python",
   "name": "python",
   "nbconvert_exporter": "python",
   "pygments_lexer": "ipython3",
   "version": "3.12.4"
  }
 },
 "nbformat": 4,
 "nbformat_minor": 5
}
